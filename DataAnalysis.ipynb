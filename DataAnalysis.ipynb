{
 "cells": [
  {
   "cell_type": "code",
   "execution_count": 1,
   "metadata": {
    "ExecuteTime": {
     "end_time": "2019-04-19T17:35:28.879797Z",
     "start_time": "2019-04-19T17:35:28.875083Z"
    }
   },
   "outputs": [],
   "source": [
    "#import libraries and set up options\n",
    "import pandas as pd\n",
    "import numpy as np\n",
    "import matplotlib.pyplot as plt\n",
    "import seaborn as sns"
   ]
  },
  {
   "cell_type": "code",
   "execution_count": 2,
   "metadata": {
    "ExecuteTime": {
     "end_time": "2019-04-19T17:41:32.169310Z",
     "start_time": "2019-04-19T17:41:32.128659Z"
    }
   },
   "outputs": [],
   "source": [
    "#load data from csv\n",
    "events = pd.read_csv('gameevents.csv')\n",
    "rosters = pd.read_csv('gamerosters.csv')\n",
    "teams = pd.read_csv('teams.csv')"
   ]
  },
  {
   "cell_type": "code",
   "execution_count": 3,
   "metadata": {},
   "outputs": [],
   "source": [
    "#Set the colors to be used in the graph\n",
    "penguinsColor = \"#cccc00\"\n",
    "capitalsColor = \"#0000b3\""
   ]
  },
  {
   "cell_type": "code",
   "execution_count": 4,
   "metadata": {},
   "outputs": [],
   "source": [
    "'''\n",
    "The style class is used to style the print statements.\n",
    "\n",
    "Usage Example: \n",
    "\n",
    "print(style.BOLD+\"Sample 1\"+style.END+\"Sample 2\"): This will print \"Sample 1\" in bold and Sample 2 without any formatting.\n",
    "'''\n",
    "#Formatting the print statements\n",
    "class style:\n",
    "   PURPLE = '\\033[95m'\n",
    "   CYAN = '\\033[96m'\n",
    "   DARKCYAN = '\\033[36m'\n",
    "   BLUE = '\\033[94m'\n",
    "   GREEN = '\\033[92m'\n",
    "   YELLOW = '\\033[93m'\n",
    "   RED = '\\033[91m'\n",
    "   BOLD = '\\033[1m'\n",
    "   UNDERLINE = '\\033[4m'\n",
    "   END = '\\033[0m'"
   ]
  },
  {
   "cell_type": "markdown",
   "metadata": {},
   "source": [
    "### Exploratory Data Analysis"
   ]
  },
  {
   "cell_type": "markdown",
   "metadata": {},
   "source": [
    "###### Events"
   ]
  },
  {
   "cell_type": "code",
   "execution_count": 5,
   "metadata": {},
   "outputs": [
    {
     "name": "stdout",
     "output_type": "stream",
     "text": [
      "Shape of events (1988, 18)\n"
     ]
    }
   ],
   "source": [
    "print(\"Shape of\",\"events\",events.shape)"
   ]
  },
  {
   "cell_type": "code",
   "execution_count": 6,
   "metadata": {},
   "outputs": [
    {
     "name": "stdout",
     "output_type": "stream",
     "text": [
      "Check the missing values in events\n"
     ]
    }
   ],
   "source": [
    "print(\"Check the missing values in\",\"events\")\n",
    "# events.isna().sum()"
   ]
  },
  {
   "cell_type": "markdown",
   "metadata": {},
   "source": [
    "###### Rosters"
   ]
  },
  {
   "cell_type": "code",
   "execution_count": 7,
   "metadata": {},
   "outputs": [
    {
     "name": "stdout",
     "output_type": "stream",
     "text": [
      "Shape of rosters (40, 7)\n"
     ]
    }
   ],
   "source": [
    "print(\"Shape of\",\"rosters\",rosters.shape)"
   ]
  },
  {
   "cell_type": "code",
   "execution_count": 8,
   "metadata": {},
   "outputs": [
    {
     "name": "stdout",
     "output_type": "stream",
     "text": [
      "Check the missing values in rosters\n"
     ]
    }
   ],
   "source": [
    "print(\"Check the missing values in\",\"rosters\")\n",
    "# rosters.isna().sum()"
   ]
  },
  {
   "cell_type": "markdown",
   "metadata": {},
   "source": [
    "###### Teams"
   ]
  },
  {
   "cell_type": "code",
   "execution_count": 9,
   "metadata": {},
   "outputs": [
    {
     "name": "stdout",
     "output_type": "stream",
     "text": [
      "Shape of teams (31, 6)\n"
     ]
    }
   ],
   "source": [
    "print(\"Shape of\",\"teams\",teams.shape)"
   ]
  },
  {
   "cell_type": "code",
   "execution_count": 10,
   "metadata": {},
   "outputs": [
    {
     "name": "stdout",
     "output_type": "stream",
     "text": [
      "Check the missing values in teams\n"
     ]
    }
   ],
   "source": [
    "print(\"Check the missing values in\",\"teams\")\n",
    "# teams.isna().sum()"
   ]
  },
  {
   "cell_type": "markdown",
   "metadata": {},
   "source": [
    "## Analysis 1: Handedness by player position and team"
   ]
  },
  {
   "cell_type": "markdown",
   "metadata": {},
   "source": [
    "Let's join the rosters and teams dataframes. We will exclude the goalies, and group by teamShorthand, primaryPosition and handedness. Finally, we will plot a horizontal bar chart showing handedness by player position and team."
   ]
  },
  {
   "cell_type": "markdown",
   "metadata": {},
   "source": [
    "###### Join the `rosters` and `teams` dataframes"
   ]
  },
  {
   "cell_type": "code",
   "execution_count": 11,
   "metadata": {},
   "outputs": [],
   "source": [
    "dfTeamRoster = rosters.join(teams.set_index('teamId'), on='teamId', how='left')\n",
    "#dfTeamRoster.head()"
   ]
  },
  {
   "cell_type": "markdown",
   "metadata": {},
   "source": [
    "###### Exclude goalies and grouping data by `teamShorthand`, `primaryPosition` and `handedness`"
   ]
  },
  {
   "cell_type": "code",
   "execution_count": 12,
   "metadata": {},
   "outputs": [],
   "source": [
    "#Select the data and group it by teamShorthand','primaryPosition','handedness'\n",
    "dfQ1 = dfTeamRoster[dfTeamRoster['primaryPosition']!='G'].groupby(['teamShorthand','primaryPosition','handedness', 'teamName']\n",
    "                              ).size().reset_index()\n",
    "dfQ1.rename(columns={0:'handednessCount'}, inplace=True)"
   ]
  },
  {
   "cell_type": "markdown",
   "metadata": {},
   "source": [
    "###### Create a horizontal bar chart showing handedness by player position and team"
   ]
  },
  {
   "cell_type": "code",
   "execution_count": 13,
   "metadata": {},
   "outputs": [
    {
     "data": {
      "image/png": "[encoded data removed]",
      "text/plain": [
       "<Figure size 686.175x432 with 2 Axes>"
      ]
     },
     "metadata": {
      "needs_background": "light"
     },
     "output_type": "display_data"
    }
   ],
   "source": [
    "#Create a barchart for selected data\n",
    "g = sns.catplot(x=\"handednessCount\", y=\"handedness\",\n",
    "                hue=\"teamName\", col=\"primaryPosition\",\n",
    "                data=dfQ1, kind=\"bar\", palette=[penguinsColor,capitalsColor],\n",
    "                height=6, aspect=.7, legend=True, sharey = False)\n",
    "\n",
    "#Traverse through each subplot and add the numbers on each bars\n",
    "for ax, title in zip(g.axes.flat, ['Player Position = D', 'Player Position = F']):\n",
    "    ax.set_title(title)\n",
    "    for rect in ax.patches:\n",
    "        # Find where everything is located\n",
    "        height = rect.get_height()\n",
    "        width = rect.get_width()\n",
    "        x = rect.get_x()\n",
    "        y = rect.get_y()\n",
    "\n",
    "        # The height of the bar is the data value and can be used as the label\n",
    "        label_text = f'{width:.0f}'  # f'{height:.2f}' to format decimal values\n",
    "\n",
    "        label_x = x + width - 0.2  # adjust 0.2 to center the label\n",
    "        label_y = y + height / 2\n",
    "        ax.text(label_x, label_y, label_text, ha='right', \n",
    "                va='center', color=\"white\", fontsize=10,\n",
    "               fontweight=\"bold\")\n",
    "\n",
    "#Add the title, axis labels and legend\n",
    "g.fig.subplots_adjust(top=0.85, wspace=0.2)\n",
    "g.fig.suptitle('Handedness by player position and team', fontsize=16)\n",
    "g._legend.set_title('Team')\n",
    "_ = g.set(ylabel=\"Handedness\", xlabel=\"Count of Handedness\")"
   ]
  },
  {
   "cell_type": "markdown",
   "metadata": {},
   "source": [
    "<b><u>Observations from Analysis 1:</u></b>\n",
    "\n",
    "* Capitals team has a equal numbers of left and right handed defenders.\n",
    "\n",
    "* Penguins team seems more inbalanced in terms of handedness and towards F position."
   ]
  },
  {
   "cell_type": "markdown",
   "metadata": {},
   "source": [
    "## Analysis 2: Number of Shot Attempts"
   ]
  },
  {
   "cell_type": "markdown",
   "metadata": {},
   "source": [
    "Let's join the events and teams dataframes. Then, group by teamShorthand to plot a bar chart showing shot attempt counts (including both successful and failed shots)."
   ]
  },
  {
   "cell_type": "markdown",
   "metadata": {},
   "source": [
    "###### Join the `events` and `teams` dataframes"
   ]
  },
  {
   "cell_type": "code",
   "execution_count": 14,
   "metadata": {},
   "outputs": [
    {
     "name": "stdout",
     "output_type": "stream",
     "text": [
      "Shape of dataframe  dfEventTeams: (1988, 23)\n"
     ]
    }
   ],
   "source": [
    "dfEventTeams = events.join(teams.set_index('teamId'), on='teamId', how='left')\n",
    "print(\"Shape of dataframe \",\"dfEventTeams:\",dfEventTeams.shape)"
   ]
  },
  {
   "cell_type": "markdown",
   "metadata": {},
   "source": [
    "###### Group the data by `teamShorthand` and `outcome`. Then create a pivot table for the selected data."
   ]
  },
  {
   "cell_type": "code",
   "execution_count": 15,
   "metadata": {},
   "outputs": [
    {
     "data": {
      "text/html": [
       "<div>\n",
       "<style scoped>\n",
       "    .dataframe tbody tr th:only-of-type {\n",
       "        vertical-align: middle;\n",
       "    }\n",
       "\n",
       "    .dataframe tbody tr th {\n",
       "        vertical-align: top;\n",
       "    }\n",
       "\n",
       "    .dataframe thead th {\n",
       "        text-align: right;\n",
       "    }\n",
       "</style>\n",
       "<table border=\"1\" class=\"dataframe\">\n",
       "  <thead>\n",
       "    <tr style=\"text-align: right;\">\n",
       "      <th>outcome</th>\n",
       "      <th>failed</th>\n",
       "      <th>successful</th>\n",
       "    </tr>\n",
       "    <tr>\n",
       "      <th>teamShorthand</th>\n",
       "      <th></th>\n",
       "      <th></th>\n",
       "    </tr>\n",
       "  </thead>\n",
       "  <tbody>\n",
       "    <tr>\n",
       "      <th>PIT</th>\n",
       "      <td>241</td>\n",
       "      <td>891</td>\n",
       "    </tr>\n",
       "    <tr>\n",
       "      <th>WSH</th>\n",
       "      <td>188</td>\n",
       "      <td>664</td>\n",
       "    </tr>\n",
       "  </tbody>\n",
       "</table>\n",
       "</div>"
      ],
      "text/plain": [
       "outcome        failed  successful\n",
       "teamShorthand                    \n",
       "PIT               241         891\n",
       "WSH               188         664"
      ]
     },
     "execution_count": 15,
     "metadata": {},
     "output_type": "execute_result"
    }
   ],
   "source": [
    "#Creating a pivot table \n",
    "outcomeList = ['failed','successful']\n",
    "dfQ2 = dfEventTeams[dfEventTeams['outcome'].isin(outcomeList)].groupby(['teamShorthand','outcome']\n",
    "                              ).size().reset_index().pivot(columns='outcome', index='teamShorthand', values=0)\n",
    "dfQ2"
   ]
  },
  {
   "cell_type": "code",
   "execution_count": 16,
   "metadata": {},
   "outputs": [
    {
     "data": {
      "image/png": "[encoded data removed]",
      "text/plain": [
       "<Figure size 576x432 with 1 Axes>"
      ]
     },
     "metadata": {},
     "output_type": "display_data"
    }
   ],
   "source": [
    "#add colors for success and failed shots\n",
    "colors = ['red', 'green']\n",
    "\n",
    "plt.style.use('ggplot')\n",
    "\n",
    "#Create a horizontal stacked bar chart\n",
    "ax = dfQ2.plot(kind='barh',  stacked=True, color=colors, figsize=(8, 6), grid=False)\n",
    "\n",
    "#Traverse through each subplot and add the numbers on each bars\n",
    "# patches is everything inside of the chart\n",
    "for rect in ax.patches:\n",
    "    # Find where everything is located\n",
    "    height = rect.get_height()\n",
    "    width = rect.get_width()\n",
    "    x = rect.get_x()\n",
    "    y = rect.get_y()\n",
    "\n",
    "    # The height of the bar is the data value and can be used as the label\n",
    "    label_text = f'{width:.0f}'  # f'{height:.2f}' to format decimal values\n",
    "\n",
    "    # ax.text(x, y, text)\n",
    "    label_x = x + width - 0.2  # adjust 0.2 to center the label\n",
    "    label_y = y + height / 2\n",
    "    ax.text(label_x, label_y, label_text, ha='right', \n",
    "            va='center', color=\"white\", fontsize=10,\n",
    "           fontweight=\"bold\")\n",
    "    \n",
    "#Add the title, axis labels and legend\n",
    "ax.set_title(\"\\nNumber of Successful and Failed Shot Attempts\\n\", fontsize=18, y=1.01)\n",
    "ax.set_ylabel(\"Teams\", fontsize=14)\n",
    "ax.set_yticklabels([\"Penguins\",\"Capitals\"])\n",
    "ax.set_xlabel(\"\\nNumber of Attempts\", fontsize=14)\n",
    "_ = ax.legend(bbox_to_anchor=(1.05, 1), loc='upper left', title=\"Attempts\", borderaxespad=0.) "
   ]
  },
  {
   "cell_type": "code",
   "execution_count": null,
   "metadata": {},
   "outputs": [],
   "source": []
  }
 ],
 "metadata": {
  "hide_input": false,
  "kernelspec": {
   "display_name": "Python 3",
   "language": "python",
   "name": "python3"
  },
  "language_info": {
   "codemirror_mode": {
    "name": "ipython",
    "version": 3
   },
   "file_extension": ".py",
   "mimetype": "text/x-python",
   "name": "python",
   "nbconvert_exporter": "python",
   "pygments_lexer": "ipython3",
   "version": "3.8.3"
  },
  "toc": {
   "base_numbering": 1,
   "nav_menu": {},
   "number_sections": false,
   "sideBar": true,
   "skip_h1_title": false,
   "title_cell": "Table of Contents",
   "title_sidebar": "Contents",
   "toc_cell": false,
   "toc_position": {},
   "toc_section_display": true,
   "toc_window_display": true
  },
  "varInspector": {
   "cols": {
    "lenName": 16,
    "lenType": 16,
    "lenVar": 40
   },
   "kernels_config": {
    "python": {
     "delete_cmd_postfix": "",
     "delete_cmd_prefix": "del ",
     "library": "var_list.py",
     "varRefreshCmd": "print(var_dic_list())"
    },
    "r": {
     "delete_cmd_postfix": ") ",
     "delete_cmd_prefix": "rm(",
     "library": "var_list.r",
     "varRefreshCmd": "cat(var_dic_list()) "
    }
   },
   "oldHeight": 218.77778,
   "position": {
    "height": "40px",
    "left": "1566.07px",
    "right": "20px",
    "top": "122.986px",
    "width": "352px"
   },
   "types_to_exclude": [
    "module",
    "function",
    "builtin_function_or_method",
    "instance",
    "_Feature"
   ],
   "varInspector_section_display": "none",
   "window_display": true
  }
 },
 "nbformat": 4,
 "nbformat_minor": 2
}
